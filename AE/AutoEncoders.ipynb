{
  "cells": [
    {
      "cell_type": "markdown",
      "metadata": {
        "colab_type": "text",
        "id": "K4f4JG1gdKqj"
      },
      "source": [
        "# Stacked AutoEncoders"
      ]
    },
    {
      "cell_type": "markdown",
      "metadata": {
        "colab_type": "text",
        "id": "1jbiqOK7dLGG"
      },
      "source": [
        "## Downloading the dataset"
      ]
    },
    {
      "cell_type": "code",
      "execution_count": null,
      "metadata": {},
      "outputs": [],
      "source": [
        "!wget \"http://files.grouplens.org/datasets/movielens/ml-1m.zip\"\n",
        "!unzip ml-1m.zip"
      ]
    },
    {
      "cell_type": "markdown",
      "metadata": {
        "colab_type": "text",
        "id": "EOBJ8UCXdY0g"
      },
      "source": [
        "## Importing the libraries"
      ]
    },
    {
      "cell_type": "code",
      "execution_count": 2,
      "metadata": {
        "colab": {},
        "colab_type": "code",
        "id": "_LvGeU1CeCtg"
      },
      "outputs": [],
      "source": [
        "import numpy as np\n",
        "import pandas as pd\n",
        "import torch\n",
        "import torch.nn as nn\n",
        "import torch.nn.parallel\n",
        "import torch.optim as optim\n",
        "import torch.utils.data\n",
        "from torch.autograd import Variable"
      ]
    },
    {
      "cell_type": "markdown",
      "metadata": {
        "colab_type": "text",
        "id": "pM04FyMudkoK"
      },
      "source": [
        "## Importing the dataset\n"
      ]
    },
    {
      "cell_type": "code",
      "execution_count": 3,
      "metadata": {
        "colab": {},
        "colab_type": "code",
        "id": "UJw2p3-Cewo4"
      },
      "outputs": [],
      "source": [
        "# We won't be using this dataset.\n",
        "movies = pd.read_csv('ml-1m/movies.dat', sep = '::', header = None, engine = 'python', encoding = 'latin-1')\n",
        "users = pd.read_csv('ml-1m/users.dat', sep = '::', header = None, engine = 'python', encoding = 'latin-1')\n",
        "ratings = pd.read_csv('ml-1m/ratings.dat', sep = '::', header = None, engine = 'python', encoding = 'latin-1')"
      ]
    },
    {
      "cell_type": "markdown",
      "metadata": {
        "colab_type": "text",
        "id": "yTIbE2tkdkwP"
      },
      "source": [
        "## Preparing the training set and the test set\n"
      ]
    },
    {
      "cell_type": "code",
      "execution_count": 4,
      "metadata": {
        "colab": {},
        "colab_type": "code",
        "id": "2usLKJBEgPE2"
      },
      "outputs": [],
      "source": [
        "training_set = pd.read_csv('ml-1m/training_set.csv')\n",
        "training_set = np.array(training_set, dtype='int')\n",
        "test_set = pd.read_csv('ml-1m/test_set.csv')\n",
        "test_set = np.array(test_set, dtype='int')"
      ]
    },
    {
      "cell_type": "markdown",
      "metadata": {
        "colab_type": "text",
        "id": "zCf8HjSydk4s"
      },
      "source": [
        "## Getting the number of users and movies\n"
      ]
    },
    {
      "cell_type": "code",
      "execution_count": 5,
      "metadata": {
        "colab": {},
        "colab_type": "code",
        "id": "gPaGZqdniC5m"
      },
      "outputs": [],
      "source": [
        "nb_users = int(max(max(training_set[:, 0], ), max(test_set[:, 0])))\n",
        "nb_movies = int(max(max(training_set[:, 1], ), max(test_set[:, 1])))"
      ]
    },
    {
      "cell_type": "markdown",
      "metadata": {
        "colab_type": "text",
        "id": "J-w4-hVidlAm"
      },
      "source": [
        "## Converting the data into an array with users in lines and movies in columns\n"
      ]
    },
    {
      "cell_type": "code",
      "execution_count": 6,
      "metadata": {
        "colab": {},
        "colab_type": "code",
        "id": "-wASs2YFiDaa"
      },
      "outputs": [],
      "source": [
        "def convert(data):\n",
        "\tnew_data = []\n",
        "\tfor id_users in range(1, nb_users + 1):\n",
        "\t\tid_movies = data[:, 1] [data[:, 0] == id_users]\n",
        "\t\tid_ratings = data[:, 2] [data[:, 0] == id_users]\n",
        "\t\tratings = np.zeros(nb_movies)\n",
        "\t\tratings[id_movies - 1] = id_ratings\n",
        "\t\tnew_data.append(list(ratings))\n",
        "\treturn new_data\n",
        "\n",
        "\n",
        "training_set = convert(training_set)\n",
        "test_set = convert(test_set)"
      ]
    },
    {
      "cell_type": "markdown",
      "metadata": {
        "colab_type": "text",
        "id": "AMmhuUpldlHo"
      },
      "source": [
        "## Converting the data into Torch tensors\n"
      ]
    },
    {
      "cell_type": "code",
      "execution_count": 7,
      "metadata": {
        "colab": {},
        "colab_type": "code",
        "id": "TwD-KD8yiEEw"
      },
      "outputs": [],
      "source": [
        "training_set = torch.FloatTensor(training_set)\n",
        "test_set = torch.FloatTensor(test_set)"
      ]
    },
    {
      "cell_type": "markdown",
      "metadata": {
        "colab_type": "text",
        "id": "6kkL8NkkdlZj"
      },
      "source": [
        "## Creating the architecture of the Neural Network\n"
      ]
    },
    {
      "cell_type": "code",
      "execution_count": 8,
      "metadata": {},
      "outputs": [],
      "source": [
        "class SAE(nn.Module): # Inheritance of class nn.Module\n",
        "\tdef __init__(self, ):\n",
        "\t\tsuper(SAE, self).__init__()\t\t\t# Gets all the inherited classes and methods \n",
        "\t\tself.fc1 = nn.Linear(nb_movies, 20) # First hidden leayer with 20 neurons\n",
        "\t\tself.fc2 = nn.Linear(20, 10)\t\t# Second hidden layer with 10 neurons\n",
        "\t\tself.fc3 = nn.Linear(10, 20)\t\t# Thir hidden layer with 20 neurons\n",
        "\t\tself.fc4 = nn.Linear(20, nb_movies) # Output layer\n",
        "\t\tself.activation = nn.Sigmoid()\n",
        "\tdef forward(self, x):\n",
        "\t\tx = self.activation(self.fc1(x)) # Encoding\n",
        "\t\tx = self.activation(self.fc2(x)) # Encoding\n",
        "\t\tx = self.activation(self.fc3(x)) # Decoding\n",
        "\t\tx = self.fc4(x)\t\t\t\t\t # Output vector\n",
        "\t\treturn x\n",
        "\n",
        "\n",
        "sae = SAE()\n",
        "criterion = nn.MSELoss()\n",
        "optimizer = optim.RMSprop(sae.parameters(), lr=0.01, weight_decay=0.5)"
      ]
    },
    {
      "cell_type": "markdown",
      "metadata": {
        "colab_type": "text",
        "id": "7gy59alAdloL"
      },
      "source": [
        "## Training the SAE\n"
      ]
    },
    {
      "cell_type": "code",
      "execution_count": 13,
      "metadata": {},
      "outputs": [
        {
          "name": "stdout",
          "output_type": "stream",
          "text": [
            "Epoch: 1 Loss: 1.3470802307128906\n",
            "Epoch: 2 Loss: 1.0101701021194458\n",
            "Epoch: 3 Loss: 0.9898726940155029\n",
            "Epoch: 4 Loss: 0.9832795858383179\n",
            "Epoch: 5 Loss: 0.9802073836326599\n",
            "Epoch: 6 Loss: 0.978493869304657\n",
            "Epoch: 7 Loss: 0.9773132801055908\n",
            "Epoch: 8 Loss: 0.9765602946281433\n",
            "Epoch: 9 Loss: 0.9758267402648926\n",
            "Epoch: 10 Loss: 0.9755949974060059\n",
            "Epoch: 11 Loss: 0.9751777052879333\n",
            "Epoch: 12 Loss: 0.9749517440795898\n",
            "Epoch: 13 Loss: 0.9748559594154358\n",
            "Epoch: 14 Loss: 0.974542498588562\n",
            "Epoch: 15 Loss: 0.9744098782539368\n",
            "Epoch: 16 Loss: 0.9743704795837402\n",
            "Epoch: 17 Loss: 0.974302351474762\n",
            "Epoch: 18 Loss: 0.9740024209022522\n",
            "Epoch: 19 Loss: 0.973993182182312\n",
            "Epoch: 20 Loss: 0.9739540219306946\n",
            "Epoch: 21 Loss: 0.9737952351570129\n",
            "Epoch: 22 Loss: 0.9736430644989014\n",
            "Epoch: 23 Loss: 0.9738006591796875\n",
            "Epoch: 24 Loss: 0.9732851982116699\n",
            "Epoch: 25 Loss: 0.9725657105445862\n",
            "Epoch: 26 Loss: 0.9721838235855103\n",
            "Epoch: 27 Loss: 0.9715476036071777\n",
            "Epoch: 28 Loss: 0.9706843495368958\n",
            "Epoch: 29 Loss: 0.9699683785438538\n",
            "Epoch: 30 Loss: 0.9698629379272461\n",
            "Epoch: 31 Loss: 0.9686646461486816\n",
            "Epoch: 32 Loss: 0.9679853916168213\n",
            "Epoch: 33 Loss: 0.9668489098548889\n",
            "Epoch: 34 Loss: 0.9671092629432678\n",
            "Epoch: 35 Loss: 0.9652889370918274\n",
            "Epoch: 36 Loss: 0.9656614661216736\n",
            "Epoch: 37 Loss: 0.9631454348564148\n",
            "Epoch: 38 Loss: 0.961448073387146\n",
            "Epoch: 39 Loss: 0.9629160165786743\n",
            "Epoch: 40 Loss: 0.9607200622558594\n",
            "Epoch: 41 Loss: 0.960462749004364\n",
            "Epoch: 42 Loss: 0.9592514038085938\n",
            "Epoch: 43 Loss: 0.9557211995124817\n",
            "Epoch: 44 Loss: 0.9548599123954773\n",
            "Epoch: 45 Loss: 0.9534793496131897\n",
            "Epoch: 46 Loss: 0.9514198899269104\n",
            "Epoch: 47 Loss: 0.947876513004303\n",
            "Epoch: 48 Loss: 0.9485563635826111\n",
            "Epoch: 49 Loss: 0.9478931427001953\n",
            "Epoch: 50 Loss: 0.9451287388801575\n"
          ]
        }
      ],
      "source": [
        "nb_epochs = 50\n",
        "for epoch in range(1, nb_epochs + 1):\n",
        "\ttrain_loss = 0\n",
        "\ts = 0.\n",
        "\tfor id_user in range(nb_users):\n",
        "\t\tinput = Variable(training_set[id_user]).unsqueeze(0)\t# Adds a dimension to input vector\n",
        "\t\ttarget = input.clone()\n",
        "\t\tif torch.sum(target.data > 0) > 0:\t# Check if user has rated at least one movie\n",
        "\t\t\toutput = sae(input)\n",
        "\t\t\ttarget.require_grad = False # Memory ptimization\n",
        "\t\t\toutput[target == 0] = 0\t\t# Memory optimization\n",
        "\t\t\tloss = criterion(output, target)\n",
        "\t\t\tmean_corrector = nb_movies/float(torch.sum(target.data > 0) + 1e-10)\n",
        "\t\t\tloss.backward()\t\t# Decided to increse or decrese weights\n",
        "\t\t\ttrain_loss += np.sqrt(loss.data * mean_corrector)\n",
        "\t\t\ts += 1.\n",
        "\t\t\toptimizer.step()\t# Decides how intense is the adjustment for weights\n",
        "\tprint(f\"Epoch: {epoch} Loss: {train_loss/s}\")"
      ]
    },
    {
      "cell_type": "markdown",
      "metadata": {},
      "source": [
        "## Loss represents the average difference of our predicted rating and the actual rating. Movie ratings are from 1 to 5"
      ]
    },
    {
      "cell_type": "markdown",
      "metadata": {
        "colab_type": "text",
        "id": "Bak5uc8gd-gX"
      },
      "source": [
        "## Testing the SAE\n"
      ]
    },
    {
      "cell_type": "code",
      "execution_count": 49,
      "metadata": {},
      "outputs": [
        {
          "name": "stdout",
          "output_type": "stream",
          "text": [
            "Test Loss: 0.9460129737854004\n"
          ]
        }
      ],
      "source": [
        "test_loss = 0\n",
        "s = 0.\n",
        "for id_user in range(nb_users):\n",
        "\tinput = Variable(training_set[id_user]).unsqueeze(0)\n",
        "\ttarget = Variable(test_set[id_user]).unsqueeze(0)\n",
        "\tif torch.sum(target.data > 0) > 0:\n",
        "\t\toutput = sae(input)\n",
        "\t\ttarget.require_grad = False\n",
        "\t\toutput[target == 0] = 0\n",
        "\t\tloss = criterion(output, target)\n",
        "\t\tmean_corrector = nb_movies/float(torch.sum(target.data > 0) + 1e-10)\n",
        "\t\ttest_loss += np.sqrt(loss.data * mean_corrector)\n",
        "\t\ts += 1.\n",
        "print(f\"Test Loss: {test_loss/s}\")"
      ]
    },
    {
      "cell_type": "markdown",
      "metadata": {},
      "source": [
        "# On average our module was wrong by < 1 star rating"
      ]
    }
  ],
  "metadata": {
    "accelerator": "GPU",
    "colab": {
      "collapsed_sections": [],
      "name": "AutoEncoders.ipynb",
      "provenance": [],
      "toc_visible": true
    },
    "interpreter": {
      "hash": "8de90bee5c9683bb88de1de2ff601394ddf9e6fc0f1cdc818364196e17d2bf75"
    },
    "kernelspec": {
      "display_name": "Python 3.9.5 64-bit ('Python': venv)",
      "name": "python3"
    },
    "language_info": {
      "codemirror_mode": {
        "name": "ipython",
        "version": 3
      },
      "file_extension": ".py",
      "mimetype": "text/x-python",
      "name": "python",
      "nbconvert_exporter": "python",
      "pygments_lexer": "ipython3",
      "version": "3.9.5"
    }
  },
  "nbformat": 4,
  "nbformat_minor": 0
}
