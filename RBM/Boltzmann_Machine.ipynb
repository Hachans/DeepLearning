{
  "cells": [
    {
      "cell_type": "markdown",
      "metadata": {
        "id": "K4f4JG1gdKqj"
      },
      "source": [
        "# Restricted Boltzmann Machine"
      ]
    },
    {
      "cell_type": "markdown",
      "metadata": {},
      "source": [
        "## Get dataset"
      ]
    },
    {
      "cell_type": "code",
      "execution_count": null,
      "metadata": {},
      "outputs": [],
      "source": [
        "wget \"http://files.grouplens.org/datasets/movielens/ml-1m.zip\"\n",
        "!unzip ml-1m.zip"
      ]
    },
    {
      "cell_type": "markdown",
      "metadata": {
        "id": "EOBJ8UCXdY0g"
      },
      "source": [
        "## Importing the libraries"
      ]
    },
    {
      "cell_type": "code",
      "execution_count": 1,
      "metadata": {
        "id": "_LvGeU1CeCtg"
      },
      "outputs": [],
      "source": [
        "import numpy as np\n",
        "import pandas as pd\n",
        "import torch\n",
        "import torch.nn as nn\n",
        "import torch.nn.parallel\n",
        "import torch.optim as optim\n",
        "import torch.utils.data\n",
        "from torch.autograd import Variable"
      ]
    },
    {
      "cell_type": "markdown",
      "metadata": {
        "id": "pM04FyMudkoK"
      },
      "source": [
        "## Importing the dataset\n"
      ]
    },
    {
      "cell_type": "code",
      "execution_count": 2,
      "metadata": {},
      "outputs": [
        {
          "name": "stdout",
          "output_type": "stream",
          "text": [
            "         0                                   1                             2\n",
            "0        1                    Toy Story (1995)   Animation|Children's|Comedy\n",
            "1        2                      Jumanji (1995)  Adventure|Children's|Fantasy\n",
            "2        3             Grumpier Old Men (1995)                Comedy|Romance\n",
            "3        4            Waiting to Exhale (1995)                  Comedy|Drama\n",
            "4        5  Father of the Bride Part II (1995)                        Comedy\n",
            "...    ...                                 ...                           ...\n",
            "3878  3948             Meet the Parents (2000)                        Comedy\n",
            "3879  3949          Requiem for a Dream (2000)                         Drama\n",
            "3880  3950                    Tigerland (2000)                         Drama\n",
            "3881  3951             Two Family House (2000)                         Drama\n",
            "3882  3952               Contender, The (2000)                Drama|Thriller\n",
            "\n",
            "[3883 rows x 3 columns]\n"
          ]
        }
      ],
      "source": [
        "# We won't be using this dataset.\n",
        "movies = pd.read_csv('ml-1m/movies.dat', sep='::', header=None, engine='python', encoding='latin-1')\n",
        "users = pd.read_csv('ml-1m/users.dat', sep='::', header=None, engine='python', encoding='latin-1')\n",
        "ratings = pd.read_csv('ml-1m/ratings.dat', sep='::', header=None, engine='python', encoding='latin-1')\n",
        "\n",
        "print(movies)\n",
        "# print(users)\n",
        "# print(ratings)"
      ]
    },
    {
      "cell_type": "markdown",
      "metadata": {
        "id": "yTIbE2tkdkwP"
      },
      "source": [
        "## Preparing the training set and the test set\n"
      ]
    },
    {
      "cell_type": "code",
      "execution_count": 3,
      "metadata": {},
      "outputs": [
        {
          "name": "stdout",
          "output_type": "stream",
          "text": [
            "        User  Movie  Rating  Timestamp\n",
            "0          1    661       3  978302109\n",
            "1          1    914       3  978301968\n",
            "2          1   3408       4  978300275\n",
            "3          1   2355       5  978824291\n",
            "4          1   1287       5  978302039\n",
            "...      ...    ...     ...        ...\n",
            "750116  6040   1091       1  956716541\n",
            "750117  6040   1094       5  956704887\n",
            "750118  6040    562       5  956704746\n",
            "750119  6040   1096       4  956715648\n",
            "750120  6040   1097       4  956715569\n",
            "\n",
            "[750121 rows x 4 columns]\n",
            "        User  Movie  Rating  Timestamp\n",
            "0          1   1193       5  978300760\n",
            "1          1   1197       3  978302268\n",
            "2          1   2804       5  978300719\n",
            "3          1    595       5  978824268\n",
            "4          1    938       4  978301752\n",
            "...      ...    ...     ...        ...\n",
            "250083  6040   3735       4  960971654\n",
            "250084  6040   2791       4  956715569\n",
            "250085  6040    527       5  956704219\n",
            "250086  6040   2003       1  956716294\n",
            "250087  6040    535       4  964828734\n",
            "\n",
            "[250088 rows x 4 columns]\n"
          ]
        }
      ],
      "source": [
        "training_set = pd.read_csv('ml-1m/training_set.csv')\n",
        "print(training_set)\n",
        "training_set = np.array(training_set, dtype='int')\n",
        "# print(training_set)\n",
        "test_set = pd.read_csv('ml-1m/test_set.csv')\n",
        "print(test_set)\n",
        "test_set = np.array(test_set, dtype='int')\n",
        "# print(test_set)\n"
      ]
    },
    {
      "cell_type": "markdown",
      "metadata": {
        "id": "zCf8HjSydk4s"
      },
      "source": [
        "## Getting the number of users and movies\n"
      ]
    },
    {
      "cell_type": "code",
      "execution_count": 4,
      "metadata": {},
      "outputs": [
        {
          "name": "stdout",
          "output_type": "stream",
          "text": [
            "number of users 6040\n",
            "number of movies 3952\n"
          ]
        }
      ],
      "source": [
        "nb_users = int(max(max(training_set[:,0]), max(test_set[:,0])))\n",
        "print(f\"number of users {nb_users}\")\n",
        "nb_movies = int(max(max(training_set[:,1]), max(test_set[:,1])))\n",
        "print(f\"number of movies {nb_movies}\")"
      ]
    },
    {
      "cell_type": "markdown",
      "metadata": {
        "id": "J-w4-hVidlAm"
      },
      "source": [
        "## Converting the data into an array with users in lines and movies in columns\n"
      ]
    },
    {
      "cell_type": "code",
      "execution_count": 5,
      "metadata": {},
      "outputs": [],
      "source": [
        "# Create list of lists with length equal to number of movies\n",
        "def convert(data):\n",
        "\tnew_data = []\n",
        "\tfor id_users in range(1, nb_users + 1):\n",
        "\t\tid_movies = data[:,1][data[:,0]== id_users]\n",
        "\t\tid_ratings = data[:,2][data[:,0] == id_users]\n",
        "\t\tratings = np.zeros(nb_movies)\n",
        "\t\tratings[id_movies - 1] = id_ratings\n",
        "\t\tnew_data.append(list(ratings))\n",
        "\treturn new_data\n",
        "\n",
        "\n",
        "training_set = convert(training_set)\n",
        "test_set = convert(test_set)"
      ]
    },
    {
      "cell_type": "markdown",
      "metadata": {
        "id": "AMmhuUpldlHo"
      },
      "source": [
        "## Converting the data into Torch tensors\n"
      ]
    },
    {
      "cell_type": "code",
      "execution_count": 6,
      "metadata": {},
      "outputs": [],
      "source": [
        "training_set = torch.FloatTensor(training_set)\n",
        "test_set = torch.FloatTensor(test_set)"
      ]
    },
    {
      "cell_type": "markdown",
      "metadata": {
        "id": "HIPruubGdlPW"
      },
      "source": [
        "## Converting the ratings into binary ratings 1 (Liked) or 0 (Not Liked)\n"
      ]
    },
    {
      "cell_type": "code",
      "execution_count": 7,
      "metadata": {},
      "outputs": [],
      "source": [
        "# Movies that have not been rated are set to -1\n",
        "training_set[training_set == 0] = -1 \n",
        "training_set[training_set == 1] = 0\n",
        "training_set[training_set == 2] = 0\n",
        "training_set[training_set >= 3] = 1\n",
        "\n",
        "test_set[test_set == 0] = -1 \n",
        "test_set[test_set == 1] = 0\n",
        "test_set[test_set == 2] = 0\n",
        "test_set[test_set >= 3] = 1"
      ]
    },
    {
      "cell_type": "markdown",
      "metadata": {
        "id": "6kkL8NkkdlZj"
      },
      "source": [
        "## Creating the architecture of the Neural Network\n"
      ]
    },
    {
      "cell_type": "code",
      "execution_count": 8,
      "metadata": {},
      "outputs": [],
      "source": [
        "class RBM():\n",
        "\tdef __init__(self, nv, nh): # nv - visible nodes, nh - hidden nodes\n",
        "\t\tself.W = torch.randn(nh, nv) # W - Weights\n",
        "\t\tself.a = torch.randn(1, nh) # a - Biass for hidden nodes\n",
        "\t\tself.b = torch.randn(1, nv) # b - Biass for visible nodes\n",
        "\tdef sample_h(self, x): # calculate probability of a hidden node activating based on visible node\n",
        "\t\twx = torch.mm(x, self.W.t())\n",
        "\t\tactivation = wx + self.a.expand_as(wx)\n",
        "\t\tp_h_given_v = torch.sigmoid(activation)\n",
        "\t\treturn p_h_given_v, torch.bernoulli(p_h_given_v)\n",
        "\tdef sample_v(self, y): # calculate probability of a visible node activating based on hidden node\n",
        "\t\twy = torch.mm(y, self.W)\n",
        "\t\tactivation = wy + self.b.expand_as(wy)\n",
        "\t\tp_v_given_h = torch.sigmoid(activation)\n",
        "\t\treturn p_v_given_h, torch.bernoulli(p_v_given_h)\n",
        "\tdef train(self, v0, vk, ph0, phk):\n",
        "\t\tself.W += (torch.mm(v0.t(), ph0) - torch.mm(vk.t(), phk)).t()\n",
        "\t\tself.b += torch.sum((v0 - vk), 0)\n",
        "\t\tself.a += torch.sum((ph0 - phk), 0)\n",
        "\n",
        "\n",
        "rbm = RBM(nv=len(training_set[0]), nh=100)"
      ]
    },
    {
      "cell_type": "markdown",
      "metadata": {
        "id": "7gy59alAdloL"
      },
      "source": [
        "## Training the RBM\n"
      ]
    },
    {
      "cell_type": "code",
      "execution_count": 10,
      "metadata": {},
      "outputs": [
        {
          "name": "stdout",
          "output_type": "stream",
          "text": [
            " Epoch: 1, loss: 0.24925334751605988\n",
            " Epoch: 2, loss: 0.22773629426956177\n",
            " Epoch: 3, loss: 0.22858811914920807\n",
            " Epoch: 4, loss: 0.2285548746585846\n",
            " Epoch: 5, loss: 0.22808106243610382\n",
            " Epoch: 6, loss: 0.22710739076137543\n",
            " Epoch: 7, loss: 0.22793985903263092\n",
            " Epoch: 8, loss: 0.22773613035678864\n",
            " Epoch: 9, loss: 0.22777631878852844\n",
            " Epoch: 10, loss: 0.22753086686134338\n"
          ]
        }
      ],
      "source": [
        "batch_size = 100\n",
        "nb_epoch = 10\n",
        "for epoch in range(1, nb_epoch + 1):\n",
        "\ttrain_loss = 0\n",
        "\ts = 0.\n",
        "\tfor id_user in range(0, nb_users - batch_size, batch_size):\n",
        "\t\tvk = training_set[id_user:id_user + batch_size]\n",
        "\t\tv0 = training_set[id_user:id_user + batch_size]\n",
        "\t\tph0,_ = rbm.sample_h(v0)\n",
        "\t\tfor k in range(10):\n",
        "\t\t\t_,hk = rbm.sample_h(vk)\n",
        "\t\t\t_,vk = rbm.sample_v(hk)\n",
        "\t\t\tvk[v0<0] = v0[v0<0]\n",
        "\t\tphk,_ = rbm.sample_h(vk)\n",
        "\t\trbm.train(v0, vk, ph0, phk)\n",
        "\t\ttrain_loss += torch.mean(torch.abs(v0[v0 >= 0] - vk[v0 >= 0]))\n",
        "\t\ts += 1.\n",
        "\tprint(f\" Epoch: {epoch}, loss: {train_loss/s}\")"
      ]
    },
    {
      "cell_type": "markdown",
      "metadata": {
        "id": "Bak5uc8gd-gX"
      },
      "source": [
        "## Testing the RBM\n"
      ]
    },
    {
      "cell_type": "code",
      "execution_count": 11,
      "metadata": {},
      "outputs": [
        {
          "name": "stdout",
          "output_type": "stream",
          "text": [
            " test loss: 0.2114362120628357 \n"
          ]
        }
      ],
      "source": [
        "test_loss = 0\n",
        "s = 0.\n",
        "for id_user in range(nb_users):\n",
        "\tv = training_set[id_user:id_user+1]\n",
        "\tvt = test_set[id_user:id_user+1]\n",
        "\tph0,_ = rbm.sample_h(v0)\n",
        "\tif len(vt[vt>=0]) > 0:\n",
        "\t\t_,h = rbm.sample_h(v)\n",
        "\t\t_,v = rbm.sample_v(h)\n",
        "\t\ttest_loss += torch.mean(torch.abs(vt[vt >= 0] - v[vt >= 0]))\n",
        "\t\ts += 1.\n",
        "print(f\" test loss: {test_loss/s} \")"
      ]
    },
    {
      "cell_type": "markdown",
      "metadata": {},
      "source": [
        "## We predicted the correct rating (0 or 1) roughly 4/5 times "
      ]
    },
    {
      "cell_type": "markdown",
      "metadata": {},
      "source": [
        "# More advanced recommendation system can be found in AE/AutoEncoder"
      ]
    }
  ],
  "metadata": {
    "colab": {
      "collapsed_sections": [],
      "name": "Boltzmann Machine.ipynb",
      "provenance": [],
      "toc_visible": true
    },
    "interpreter": {
      "hash": "8de90bee5c9683bb88de1de2ff601394ddf9e6fc0f1cdc818364196e17d2bf75"
    },
    "kernelspec": {
      "display_name": "Python 3.9.5 64-bit ('Python': venv)",
      "name": "python3"
    },
    "language_info": {
      "codemirror_mode": {
        "name": "ipython",
        "version": 3
      },
      "file_extension": ".py",
      "mimetype": "text/x-python",
      "name": "python",
      "nbconvert_exporter": "python",
      "pygments_lexer": "ipython3",
      "version": "3.9.5"
    }
  },
  "nbformat": 4,
  "nbformat_minor": 0
}
